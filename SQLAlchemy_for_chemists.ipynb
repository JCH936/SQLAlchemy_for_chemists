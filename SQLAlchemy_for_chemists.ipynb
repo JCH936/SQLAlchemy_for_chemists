{
 "cells": [
  {
   "cell_type": "markdown",
   "metadata": {
    "slideshow": {
     "slide_type": "skip"
    }
   },
   "source": [
    "!jupyter-nbconvert SQLAlchemy_for_chemists.ipynb --to slides --post serve"
   ]
  },
  {
   "cell_type": "markdown",
   "metadata": {
    "slideshow": {
     "slide_type": "slide"
    }
   },
   "source": [
    "Introduction to SQLAlchemy and Jupyter Notebooks\n",
    "==========================================\n",
    "\n",
    "### John Hey\n",
    "\n",
    "#### Adapted from material by:\n",
    "- Lee Bergstrand\n",
    "- Matt McInnes\n",
    "\n",
    "**Note:** This tutorial is based off the [official SQLAlchemy ORM tutorial](http://docs.sqlalchemy.org/en/rel_1_0/orm/tutorial.html). "
   ]
  },
  {
   "cell_type": "markdown",
   "metadata": {
    "slideshow": {
     "slide_type": "slide"
    }
   },
   "source": [
    "Introduction to SQLAlchemy for Chemists\n",
    "=========================="
   ]
  },
  {
   "cell_type": "markdown",
   "metadata": {
    "slideshow": {
     "slide_type": "subslide"
    }
   },
   "source": [
    "Firstly we need to import sqlalchemy and begin creating our database:"
   ]
  },
  {
   "cell_type": "code",
   "execution_count": null,
   "metadata": {
    "slideshow": {
     "slide_type": "fragment"
    }
   },
   "outputs": [],
   "source": [
    "import sqlalchemy\n",
    "\n",
    "# Connect to the database...\n",
    "from sqlalchemy import create_engine\n",
    "\n",
    "# We normally set echo=False, but here we want to see the sql we are produce later\n",
    "engine = create_engine('sqlite:///:memory:', echo=True)"
   ]
  },
  {
   "cell_type": "markdown",
   "metadata": {
    "slideshow": {
     "slide_type": "fragment"
    }
   },
   "source": [
    "**Note** that the string ``` 'sqlite:///:memory:' ``` sets the backend to sqlite and creates a database in memory. (RAM) \n",
    "\n",
    "This is useful for testing but we can change it to save to the harddisk later if we want our data to be permenant.\n",
    "\n",
    "To set this to a file, we can just replace `:memory:` with a file path i.e.:\n",
    "\n",
    "```python\n",
    "file_path = \"/home/users/john/my_super_secret_database.db\"\n",
    "engine = create_engine('sqlite:///'+file_path, echo=True)```"
   ]
  },
  {
   "cell_type": "markdown",
   "metadata": {
    "slideshow": {
     "slide_type": "slide"
    }
   },
   "source": [
    "### Creating Database-Backed Classes\n",
    "---"
   ]
  },
  {
   "cell_type": "markdown",
   "metadata": {
    "slideshow": {
     "slide_type": "subslide"
    }
   },
   "source": [
    "Our next step is to define our classes which will be mapped onto tables within our database. \n",
    "\n",
    "We do this by defining a class in the normal pythonic way but with some extra SQLAlchemy commands. \n",
    "\n",
    "SQLAlchemy will then use this class to define and create the relavent tables.  "
   ]
  },
  {
   "cell_type": "markdown",
   "metadata": {
    "slideshow": {
     "slide_type": "subslide"
    }
   },
   "source": [
    "In SQLAlchemy the ORM utilizes classes inheriting from the SQLAlchemy base class. "
   ]
  },
  {
   "cell_type": "markdown",
   "metadata": {
    "slideshow": {
     "slide_type": "fragment"
    }
   },
   "source": [
    "**Note:** ORMs (Object Relational Mapper) are classes which allow you to refer to data stored in your database from another language.\n",
    "\n",
    "Columns within a database table can usually only store scalar data (Ints, Strings etc.) an ORM allows you to map more complex datatypes onto these columns within your database. "
   ]
  },
  {
   "cell_type": "code",
   "execution_count": null,
   "metadata": {
    "slideshow": {
     "slide_type": "fragment"
    }
   },
   "outputs": [],
   "source": [
    "from sqlalchemy.ext.declarative import declarative_base\n",
    "Base = declarative_base()"
   ]
  },
  {
   "cell_type": "markdown",
   "metadata": {
    "slideshow": {
     "slide_type": "subslide"
    }
   },
   "source": [
    "In our example we are going to create a database of molecules and structural motifs"
   ]
  },
  {
   "cell_type": "markdown",
   "metadata": {
    "slideshow": {
     "slide_type": "fragment"
    }
   },
   "source": [
    "Classes define RDBMS (Relational DataBase Management Scheme) table attributes:\n",
    "\n",
    "- We must define the `__tablename__` attribute\n",
    "- Then we define some `Column` attributes\n",
    ">- Columns have datatypes (Integer, Float, etc.)\n",
    ">- Columns have constraints (Primary Key, Foreign Key, etc.)"
   ]
  },
  {
   "cell_type": "code",
   "execution_count": null,
   "metadata": {
    "slideshow": {
     "slide_type": "subslide"
    }
   },
   "outputs": [],
   "source": [
    "from sqlalchemy import Column, Integer, String, PickleType\n",
    "\n",
    "class Molecule(Base):\n",
    "    __tablename__ = 'molecules'\n",
    "    \n",
    "    id = Column(Integer, primary_key=True)\n",
    "    name = Column(String)\n",
    "    atoms = Column(PickleType)\n",
    "    # Defines to_string() representation \n",
    "    def __repr__(self):\n",
    "        return f\"<Molecule(name={self.name}, atoms={self.atoms}, id={self.id})>\""
   ]
  },
  {
   "cell_type": "markdown",
   "metadata": {
    "slideshow": {
     "slide_type": "subslide"
    }
   },
   "source": [
    "SQLAlchemy will now set up your table for you..."
   ]
  },
  {
   "cell_type": "code",
   "execution_count": null,
   "metadata": {
    "slideshow": {
     "slide_type": "fragment"
    }
   },
   "outputs": [],
   "source": [
    "Base.metadata.create_all(engine)"
   ]
  },
  {
   "cell_type": "markdown",
   "metadata": {
    "slideshow": {
     "slide_type": "subslide"
    }
   },
   "source": [
    "##### Issued SQL:\n",
    "\n",
    "```SQL\n",
    "CREATE TABLE molecules (\n",
    "\tid INTEGER NOT NULL, \n",
    "\tname VARCHAR, \n",
    "\tatoms BLOB, \n",
    "\tPRIMARY KEY (id)\n",
    ")\n",
    "```"
   ]
  },
  {
   "cell_type": "markdown",
   "metadata": {
    "slideshow": {
     "slide_type": "fragment"
    }
   },
   "source": [
    "This SQL will look familiar to those of you that have interacted with SQL databases by hand\n",
    "\n",
    "This instructs the database to create a new table with columns:\n",
    "- `id`    -- an integer that cannot have no value (`NOT NULL`)\n",
    "- `name`  -- a character array (i.e. a string) \n",
    "- `atoms` -- a binary blob, i.e. some arbitary data. \n",
    "\n",
    "It also sets the `id` column up as the primary key for this table.\n",
    "- So this table will be indexed by the `id` column"
   ]
  },
  {
   "cell_type": "markdown",
   "metadata": {
    "slideshow": {
     "slide_type": "slide"
    }
   },
   "source": [
    "### Creating a Session\n",
    "\n",
    "---"
   ]
  },
  {
   "cell_type": "code",
   "execution_count": null,
   "metadata": {
    "slideshow": {
     "slide_type": "subslide"
    }
   },
   "outputs": [],
   "source": [
    "from sqlalchemy.orm import sessionmaker\n",
    "Session = sessionmaker(bind=engine)\n",
    "session = Session()"
   ]
  },
  {
   "cell_type": "markdown",
   "metadata": {
    "slideshow": {
     "slide_type": "fragment"
    }
   },
   "source": [
    "The `session` object is created by the `sqlalchemy.orm.sessionmaker` class and bound to our database's engine. \n",
    "\n",
    "This `session` is our interface to the database. \n",
    "- We use this to add/remove/fetch items from the database. \n",
    "\n",
    "We will see this in action in the next section."
   ]
  },
  {
   "cell_type": "markdown",
   "metadata": {
    "slideshow": {
     "slide_type": "slide"
    }
   },
   "source": [
    "### Adding, Updating and Commiting Objects\n",
    "---"
   ]
  },
  {
   "cell_type": "markdown",
   "metadata": {
    "slideshow": {
     "slide_type": "subslide"
    }
   },
   "source": [
    "Once you have your tables created you can then start creating objects and mapping them onto the database."
   ]
  },
  {
   "cell_type": "code",
   "execution_count": null,
   "metadata": {
    "slideshow": {
     "slide_type": "fragment"
    }
   },
   "outputs": [],
   "source": [
    "phenol = Molecule(name=\"phenol\", atoms=[\"C\", \"C\", \"C\", \"C\", \"C\", \"C\", \"H\", \"H\", \"H\", \"H\", \"H\", \"O\", \"H\"])\n",
    "session.add(phenol)\n",
    "print(phenol)"
   ]
  },
  {
   "cell_type": "markdown",
   "metadata": {
    "slideshow": {
     "slide_type": "fragment"
    }
   },
   "source": [
    "**Note:** No SQL has been printed here and `id=None` because we have not yet committed this object to the database"
   ]
  },
  {
   "cell_type": "markdown",
   "metadata": {
    "slideshow": {
     "slide_type": "subslide"
    }
   },
   "source": [
    "There are a couple of ways to commit your new object to the database:\n",
    "\n",
    "- Call the `session.commit()` method, or;\n",
    "- When you do a query SQLAlchemy, your uncommited changes are flushed to the db (within a transaction). SQLAlchemy then requeries the database in order to gain the value of the objects primary key column."
   ]
  },
  {
   "cell_type": "code",
   "execution_count": null,
   "metadata": {
    "slideshow": {
     "slide_type": "fragment"
    }
   },
   "outputs": [],
   "source": [
    "our_molecule = session.query(Molecule).filter_by(name='phenol').first()"
   ]
  },
  {
   "cell_type": "markdown",
   "metadata": {
    "slideshow": {
     "slide_type": "subslide"
    }
   },
   "source": [
    "##### Issued SQL:\n",
    "\n",
    "*Insert (Flush)*\n",
    "\n",
    "```SQL\n",
    "INSERT INTO molecules (name, atoms) VALUES ('phenol', <memory at 0x7effc62f4408>)\n",
    "```\n",
    "\n",
    "*Query Select*\n",
    "\n",
    "```SQL\n",
    "SELECT molecules.id AS molecules_id, \n",
    "        molecules.name AS molecules_name, \n",
    "        molecules.atoms AS molecules_atoms \n",
    "FROM molecules \n",
    "WHERE molecules.name = 'phenol'\n",
    " LIMIT 1 OFFSET 0```"
   ]
  },
  {
   "cell_type": "markdown",
   "metadata": {
    "collapsed": true,
    "slideshow": {
     "slide_type": "subslide"
    }
   },
   "source": [
    "Since both of `phenol` and `our_molecule` have the same primary key they are mapped to the same object."
   ]
  },
  {
   "cell_type": "code",
   "execution_count": null,
   "metadata": {
    "slideshow": {
     "slide_type": "fragment"
    }
   },
   "outputs": [],
   "source": [
    "print(f\"phenol = {phenol}\")\n",
    "print(f\"our_molecule = {our_molecule}\")\n",
    "\n",
    "print(phenol is our_molecule)"
   ]
  },
  {
   "cell_type": "markdown",
   "metadata": {
    "collapsed": true,
    "slideshow": {
     "slide_type": "subslide"
    }
   },
   "source": [
    "Multiple objects can be added to the session and objects can be modified."
   ]
  },
  {
   "cell_type": "code",
   "execution_count": null,
   "metadata": {
    "slideshow": {
     "slide_type": "fragment"
    }
   },
   "outputs": [],
   "source": [
    "session.add_all([\n",
    "        Molecule(name=\"water\", atoms=[\"O\", \"H\", \"H\"]),\n",
    "        Molecule(name=\"CO2\", atoms=[\"O\", \"O\", \"C\"]),\n",
    "        Molecule(name=\"benzene\", atoms=['C', 'C', 'C', 'C', 'C', 'C', 'H', 'H', 'H', 'H', 'H', 'H']),])\n",
    "\n",
    "# We can modify the name if we decide that we want the systematic name instead\n",
    "phenol.name = \"Cyclohexa-1,3,5-trienol\"  "
   ]
  },
  {
   "cell_type": "markdown",
   "metadata": {
    "collapsed": true,
    "slideshow": {
     "slide_type": "subslide"
    }
   },
   "source": [
    "Finally, the transaction can be commited. The remaining changes are flushed to the database."
   ]
  },
  {
   "cell_type": "code",
   "execution_count": null,
   "metadata": {
    "slideshow": {
     "slide_type": "fragment"
    }
   },
   "outputs": [],
   "source": [
    "session.commit()"
   ]
  },
  {
   "cell_type": "markdown",
   "metadata": {
    "slideshow": {
     "slide_type": "subslide"
    }
   },
   "source": [
    "##### Issued SQL:\n",
    "\n",
    "*Flush remaining changes (inserts and updates)*\n",
    "\n",
    "```SQL\n",
    "UPDATE molecules SET name='Cyclohexa-1,3,5-trienol' WHERE molecules.id = 1\n",
    "\n",
    "INSERT INTO molecules (name, atoms) VALUES ('water', <memory at 0x7fefdf101408>)\n",
    "INSERT INTO molecules (name, atoms) VALUES ('CO2', <memory at 0x7fefdf101588>)\n",
    "INSERT INTO molecules (name, atoms) VALUES ('benzene', <memory at 0x7fefdf101408>)\n",
    "```\n",
    "\n",
    "*Finally, commit the changes*\n",
    "\n",
    "```SQL\n",
    "COMMIT\n",
    "```"
   ]
  },
  {
   "cell_type": "markdown",
   "metadata": {
    "slideshow": {
     "slide_type": "slide"
    }
   },
   "source": [
    "### Rolling Back\n",
    "---"
   ]
  },
  {
   "cell_type": "markdown",
   "metadata": {
    "slideshow": {
     "slide_type": "subslide"
    }
   },
   "source": [
    "In SQLAlchemy all database operations are performed within a transaction. \n",
    "\n",
    "For example we can edit and query for objects:"
   ]
  },
  {
   "cell_type": "code",
   "execution_count": null,
   "metadata": {
    "slideshow": {
     "slide_type": "subslide"
    }
   },
   "outputs": [],
   "source": [
    "phenol.name = 'Phenol'\n",
    "\n",
    "fake_molecule = Molecule(name='fakemol', atoms=[\"F\", \"Al\", \"Se\"])\n",
    "session.add(fake_molecule)\n",
    "\n",
    "session.query(Molecule).filter(Molecule.name.in_(['Phenol', 'fakemol'])).all()"
   ]
  },
  {
   "cell_type": "markdown",
   "metadata": {
    "slideshow": {
     "slide_type": "subslide"
    }
   },
   "source": [
    "We can do a rollback and our changes are reset."
   ]
  },
  {
   "cell_type": "code",
   "execution_count": null,
   "metadata": {
    "slideshow": {
     "slide_type": "fragment"
    }
   },
   "outputs": [],
   "source": [
    "session.rollback()"
   ]
  },
  {
   "cell_type": "markdown",
   "metadata": {
    "slideshow": {
     "slide_type": "fragment"
    }
   },
   "source": [
    "##### Issued SQL:\n",
    "\n",
    "```SQL\n",
    "ROLLBACK\n",
    "```"
   ]
  },
  {
   "cell_type": "markdown",
   "metadata": {
    "slideshow": {
     "slide_type": "subslide"
    }
   },
   "source": [
    "Our objects are reset to their pervious states and our uncommited objects are removed."
   ]
  },
  {
   "cell_type": "code",
   "execution_count": null,
   "metadata": {
    "slideshow": {
     "slide_type": "fragment"
    }
   },
   "outputs": [],
   "source": [
    "phenol.name"
   ]
  },
  {
   "cell_type": "code",
   "execution_count": null,
   "metadata": {
    "slideshow": {
     "slide_type": "fragment"
    }
   },
   "outputs": [],
   "source": [
    "fake_molecule in session"
   ]
  },
  {
   "cell_type": "markdown",
   "metadata": {
    "slideshow": {
     "slide_type": "fragment"
    }
   },
   "source": [
    "So our fake molecule is no longer part of our database session"
   ]
  },
  {
   "cell_type": "markdown",
   "metadata": {
    "slideshow": {
     "slide_type": "slide"
    }
   },
   "source": [
    "### Querying\n",
    "---"
   ]
  },
  {
   "cell_type": "markdown",
   "metadata": {
    "slideshow": {
     "slide_type": "subslide"
    }
   },
   "source": [
    "We can query our database for objects in the `Molecules` table and sort them"
   ]
  },
  {
   "cell_type": "code",
   "execution_count": null,
   "metadata": {
    "slideshow": {
     "slide_type": "fragment"
    }
   },
   "outputs": [],
   "source": [
    "for instance in session.query(Molecule).order_by(Molecule.id):\n",
    "    print(instance)"
   ]
  },
  {
   "cell_type": "markdown",
   "metadata": {
    "slideshow": {
     "slide_type": "subslide"
    }
   },
   "source": [
    "##### Issued SQL:\n",
    "\n",
    "```SQL\n",
    "SELECT molecules.id AS molecules_id, \n",
    "        molecules.name AS molecules_name, \n",
    "        molecules.atoms AS molecules_atoms \n",
    "FROM molecules ORDER BY molecules.id\n",
    "```"
   ]
  },
  {
   "cell_type": "markdown",
   "metadata": {
    "slideshow": {
     "slide_type": "fragment"
    }
   },
   "source": [
    "**Note:** This returns all the information associated with each Molecule object."
   ]
  },
  {
   "cell_type": "markdown",
   "metadata": {
    "slideshow": {
     "slide_type": "subslide"
    }
   },
   "source": [
    "Sometimes we only want to get certain information from each row:"
   ]
  },
  {
   "cell_type": "code",
   "execution_count": null,
   "metadata": {
    "slideshow": {
     "slide_type": "fragment"
    }
   },
   "outputs": [],
   "source": [
    "for name, atoms in session.query(Molecule.name, Molecule.atoms):\n",
    "    print(name, atoms)"
   ]
  },
  {
   "cell_type": "markdown",
   "metadata": {
    "slideshow": {
     "slide_type": "fragment"
    }
   },
   "source": [
    "##### Issued SQL:\n",
    "\n",
    "```SQL\n",
    "SELECT molecules.name AS molecules_name, \n",
    "        molecules.atoms AS molecules_atoms \n",
    "FROM molecules\n",
    "```"
   ]
  },
  {
   "cell_type": "markdown",
   "metadata": {
    "slideshow": {
     "slide_type": "slide"
    }
   },
   "source": [
    "### Common Filtering Operators"
   ]
  },
  {
   "cell_type": "markdown",
   "metadata": {
    "slideshow": {
     "slide_type": "subslide"
    }
   },
   "source": [
    "We can filter our query so that we only select some of the data\n",
    "\n",
    "Here’s an overview of some common operators used by the `filter()` fucntion:\n",
    "- equals\n",
    "- not equals\n",
    "- like\n",
    "- in\n",
    "- not in\n",
    "- and\n",
    "- or"
   ]
  },
  {
   "cell_type": "markdown",
   "metadata": {
    "slideshow": {
     "slide_type": "subslide"
    }
   },
   "source": [
    "#### equals:"
   ]
  },
  {
   "cell_type": "code",
   "execution_count": null,
   "metadata": {
    "slideshow": {
     "slide_type": "fragment"
    }
   },
   "outputs": [],
   "source": [
    "for molecule in session.query(Molecule).filter(Molecule.name == 'water'):\n",
    "    print(molecule)"
   ]
  },
  {
   "cell_type": "markdown",
   "metadata": {
    "slideshow": {
     "slide_type": "subslide"
    }
   },
   "source": [
    "#### not equals:"
   ]
  },
  {
   "cell_type": "code",
   "execution_count": null,
   "metadata": {
    "slideshow": {
     "slide_type": "fragment"
    }
   },
   "outputs": [],
   "source": [
    "for molecule in session.query(Molecule).filter(Molecule.name != 'water'):\n",
    "    print(molecule)"
   ]
  },
  {
   "cell_type": "markdown",
   "metadata": {
    "slideshow": {
     "slide_type": "subslide"
    }
   },
   "source": [
    "#### LIKE:"
   ]
  },
  {
   "cell_type": "code",
   "execution_count": null,
   "metadata": {
    "slideshow": {
     "slide_type": "fragment"
    }
   },
   "outputs": [],
   "source": [
    "# everything that matches wat*\n",
    "for molecule in session.query(Molecule).filter(Molecule.name.like('wat%')):\n",
    "    print(molecule)   "
   ]
  },
  {
   "cell_type": "code",
   "execution_count": null,
   "metadata": {
    "slideshow": {
     "slide_type": "fragment"
    }
   },
   "outputs": [],
   "source": [
    "# everything with an \"o\" in the name:\n",
    "for molecule in session.query(Molecule).filter(Molecule.name.like('%o%')):\n",
    "    print(molecule)"
   ]
  },
  {
   "cell_type": "markdown",
   "metadata": {
    "slideshow": {
     "slide_type": "subslide"
    }
   },
   "source": [
    "#### IN:"
   ]
  },
  {
   "cell_type": "code",
   "execution_count": null,
   "metadata": {
    "slideshow": {
     "slide_type": "fragment"
    }
   },
   "outputs": [],
   "source": [
    "for molecule in session.query(Molecule).filter(Molecule.name.in_(['Cyclohexa-1,3,5-trienol',\n",
    "                                                                 'water'])):\n",
    "    print(molecule)"
   ]
  },
  {
   "cell_type": "markdown",
   "metadata": {
    "slideshow": {
     "slide_type": "subslide"
    }
   },
   "source": [
    "#### NOT IN:"
   ]
  },
  {
   "cell_type": "code",
   "execution_count": null,
   "metadata": {
    "slideshow": {
     "slide_type": "fragment"
    }
   },
   "outputs": [],
   "source": [
    "# use \"tilda~\" for NOT IN\n",
    "for molecule in session.query(Molecule).filter(~Molecule.name.in_(['Cyclohexa-1,3,5-trienol',\n",
    "                                                                 'water'])):\n",
    "    print(molecule)"
   ]
  },
  {
   "cell_type": "markdown",
   "metadata": {
    "slideshow": {
     "slide_type": "subslide"
    }
   },
   "source": [
    "#### AND:"
   ]
  },
  {
   "cell_type": "code",
   "execution_count": null,
   "metadata": {
    "slideshow": {
     "slide_type": "fragment"
    }
   },
   "outputs": [],
   "source": [
    "for molecule in session.query(Molecule).filter(Molecule.name.in_(['Cyclohexa-1,3,5-trienol',\n",
    "                                                                 'water']),\n",
    "                                              Molecule.atoms == [\"O\", \"H\", \"H\"]):\n",
    "    print(molecule)"
   ]
  },
  {
   "cell_type": "markdown",
   "metadata": {
    "slideshow": {
     "slide_type": "subslide"
    }
   },
   "source": [
    "#### OR:"
   ]
  },
  {
   "cell_type": "code",
   "execution_count": null,
   "metadata": {
    "slideshow": {
     "slide_type": "fragment"
    }
   },
   "outputs": [],
   "source": [
    "from sqlalchemy import or_\n",
    "for molecule in session.query(Molecule).filter(or_(Molecule.name == \"water\", Molecule.id >= 4)):\n",
    "    print(molecule)"
   ]
  },
  {
   "cell_type": "markdown",
   "metadata": {
    "slideshow": {
     "slide_type": "slide"
    }
   },
   "source": [
    "### Relationships\n",
    "---"
   ]
  },
  {
   "cell_type": "markdown",
   "metadata": {
    "slideshow": {
     "slide_type": "fragment"
    }
   },
   "source": [
    "This is where the real magic starts! "
   ]
  },
  {
   "cell_type": "markdown",
   "metadata": {
    "slideshow": {
     "slide_type": "fragment"
    }
   },
   "source": [
    "Multiple classes can be created and linked together using class relations."
   ]
  },
  {
   "cell_type": "markdown",
   "metadata": {
    "slideshow": {
     "slide_type": "fragment"
    }
   },
   "source": [
    "### Many to Many: \n",
    "\n",
    "We can link one motif to many molecules and vice versa: "
   ]
  },
  {
   "cell_type": "code",
   "execution_count": null,
   "metadata": {
    "slideshow": {
     "slide_type": "fragment"
    }
   },
   "outputs": [],
   "source": [
    "from sqlalchemy import ForeignKey, Table\n",
    "from sqlalchemy.orm import relationship\n",
    "\n",
    "association_table = Table('association', Base.metadata,\n",
    "    Column('left_id', Integer, ForeignKey('molecules_ext.id')),\n",
    "    Column('right_id', Integer, ForeignKey('motifs.id'))\n",
    ")\n",
    "\n",
    "\n",
    "class Molecule_extended(Base):\n",
    "    __tablename__ = 'molecules_ext'\n",
    "    \n",
    "    id = Column(Integer, primary_key=True)\n",
    "    name = Column(String)\n",
    "    atoms = Column(PickleType)\n",
    "    \n",
    "    motifs = relationship(\"Motif\", # relationship with Molecule table\n",
    "                            secondary='association',\n",
    "                            backref=\"molecules\", \n",
    "                             )\n",
    "    \n",
    "    \n",
    "    # Defines to_string() representation \n",
    "    def __repr__(self):\n",
    "        return f\"<Molecule(name={self.name}, atoms={self.atoms}, id={self.id})>\"\n",
    "    \n",
    "class Motif(Base):  # E.g. steroid, or phenyl or alcohol etc.\n",
    "    __tablename__ = 'motifs'\n",
    "    id = Column(Integer, primary_key=True)\n",
    "    name = Column(String, nullable=False)\n",
    "    atoms = Column(PickleType)\n",
    "    \n",
    "    molecules = relationship(\"Molecule_extended\", # relationship with Molecule table\n",
    "                             backref=\"motifs\", \n",
    "                             secondary='association')\n",
    "    \n",
    "    def __repr__(self):\n",
    "        return f\"<Motif(name={self.name}, molecules={self.molecules})>\""
   ]
  },
  {
   "cell_type": "markdown",
   "metadata": {
    "collapsed": true,
    "slideshow": {
     "slide_type": "fragment"
    }
   },
   "source": [
    "Once primary and foreign keys are established, classes can be connected together via relationships."
   ]
  },
  {
   "cell_type": "code",
   "execution_count": null,
   "metadata": {
    "scrolled": true,
    "slideshow": {
     "slide_type": "subslide"
    }
   },
   "outputs": [],
   "source": [
    "Base.metadata.create_all(engine) # Flush schema changes to the DBMS."
   ]
  },
  {
   "cell_type": "markdown",
   "metadata": {
    "slideshow": {
     "slide_type": "skip"
    }
   },
   "source": [
    "##### Issued SQL:\n",
    "\n",
    "```SQL\n",
    "PRAGMA table_info(\"molecules\")\n",
    "\n",
    "PRAGMA table_info(\"backbone_motif\")\n",
    "\n",
    "CREATE TABLE backbone_motif (\n",
    "\tid INTEGER NOT NULL, \n",
    "\tname VARCHAR NOT NULL, \n",
    "\tatoms BLOB, \n",
    "\tmolecule_id INTEGER, \n",
    "\tPRIMARY KEY (id), \n",
    "\tFOREIGN KEY(molecule_id) REFERENCES molecules (id)\n",
    ")\n",
    "\n",
    "COMMIT\n",
    "\n",
    "```"
   ]
  },
  {
   "cell_type": "markdown",
   "metadata": {
    "collapsed": true,
    "slideshow": {
     "slide_type": "fragment"
    }
   },
   "source": [
    "In the above mappings:\n",
    "- ```molecule.backbone``` maps to a molecule's list of structural motifs.\n",
    "- ```motif.molecules``` maps to a motif's parent molecule objects."
   ]
  },
  {
   "cell_type": "markdown",
   "metadata": {
    "slideshow": {
     "slide_type": "subslide"
    }
   },
   "source": [
    "We create a \"benzenediol\" object and it initially has no motifs."
   ]
  },
  {
   "cell_type": "code",
   "execution_count": null,
   "metadata": {
    "slideshow": {
     "slide_type": "fragment"
    }
   },
   "outputs": [],
   "source": [
    "benzenediol = Molecule_extended(name='benzenediol', atoms=[\"C\", \"C\", \"C\", \"C\", \"C\", \"C\", \n",
    "                                                  \"H\", \"H\", \"H\", \"H\", \n",
    "                                                  \"O\", \"H\", \n",
    "                                                  \"O\", \"H\"], )\n",
    "benzenediol.motifs"
   ]
  },
  {
   "cell_type": "markdown",
   "metadata": {
    "collapsed": true,
    "slideshow": {
     "slide_type": "subslide"
    }
   },
   "source": [
    "We can then add some motifs."
   ]
  },
  {
   "cell_type": "code",
   "execution_count": null,
   "metadata": {
    "slideshow": {
     "slide_type": "fragment"
    }
   },
   "outputs": [],
   "source": [
    "benzene_motif = Motif(name='benzene_ring', atoms=[\"C\", \"C\", \"C\", \"C\", \"C\", \"C\"])\n",
    "alcohol_motif = Motif(name='Alcohol', atoms=[\"O\", \"H\"])\n",
    "\n",
    "benzenediol.motifs = [benzene_motif, \n",
    "                        alcohol_motif]"
   ]
  },
  {
   "cell_type": "code",
   "execution_count": null,
   "metadata": {
    "slideshow": {
     "slide_type": "subslide"
    }
   },
   "outputs": [],
   "source": [
    "benzenediol.motifs[1]"
   ]
  },
  {
   "cell_type": "markdown",
   "metadata": {
    "collapsed": true,
    "slideshow": {
     "slide_type": "fragment"
    }
   },
   "source": [
    "We see that the \"benzenediol\" object's first motif's user parameter refers back to the \"benzenediol\" object."
   ]
  },
  {
   "cell_type": "code",
   "execution_count": null,
   "metadata": {
    "slideshow": {
     "slide_type": "fragment"
    }
   },
   "outputs": [],
   "source": [
    "benzenediol.motifs[1].molecules"
   ]
  },
  {
   "cell_type": "markdown",
   "metadata": {
    "slideshow": {
     "slide_type": "fragment"
    }
   },
   "source": [
    "It all gets a bit recursive. "
   ]
  },
  {
   "cell_type": "code",
   "execution_count": null,
   "metadata": {
    "slideshow": {
     "slide_type": "fragment"
    }
   },
   "outputs": [],
   "source": [
    "benzenediol.motifs[1].molecules.motifs[1]"
   ]
  },
  {
   "cell_type": "markdown",
   "metadata": {
    "collapsed": true,
    "slideshow": {
     "slide_type": "subslide"
    }
   },
   "source": [
    "When we add \"benzenediol\" to the session and commit, the two Motif objects are also committed in a cascading fashion."
   ]
  },
  {
   "cell_type": "code",
   "execution_count": null,
   "metadata": {
    "slideshow": {
     "slide_type": "fragment"
    }
   },
   "outputs": [],
   "source": [
    "session.add(benzenediol)\n",
    "\n",
    "benzenediol = session.query(Molecule).filter_by(name='benzenediol').one()\n",
    "benzenediol.motifs"
   ]
  },
  {
   "cell_type": "code",
   "execution_count": null,
   "metadata": {},
   "outputs": [],
   "source": [
    "mol = session.query(Molecule).filter(Molecule.name==\"Cyclohexa-1,3,5-trienol\").one()\n",
    "print(mol)\n",
    "mol.motifs = []\n",
    "print(mol.motifs) \n"
   ]
  }
 ],
 "metadata": {
  "celltoolbar": "Slideshow",
  "kernelspec": {
   "display_name": "Python 3",
   "language": "python",
   "name": "python3"
  },
  "language_info": {
   "codemirror_mode": {
    "name": "ipython",
    "version": 3
   },
   "file_extension": ".py",
   "mimetype": "text/x-python",
   "name": "python",
   "nbconvert_exporter": "python",
   "pygments_lexer": "ipython3",
   "version": "3.7.0"
  }
 },
 "nbformat": 4,
 "nbformat_minor": 1
}
